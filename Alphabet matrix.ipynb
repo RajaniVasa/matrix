{
 "cells": [
  {
   "cell_type": "code",
   "execution_count": null,
   "id": "dbff83fb-9d7e-4893-a0bc-52a1f16850dd",
   "metadata": {},
   "outputs": [],
   "source": [
    "n=int(input(\"Enter the size:\"))\n",
    "matrix=[[' ']*n for _ in range(n)]\n",
    "ch=65\n",
    "top,left=0,0\n",
    "right,bottom=n-1,n-1\n",
    "while top<=bottom and left<=right:\n",
    "  for i in range(left,right+1):\n",
    "   matrix[top][i]=chr(ch)\n",
    "   ch+=1\n",
    "   '''if ch>90:\n",
    "       ch=65'''\n",
    "  top+=1\n",
    "  for i in range(top,bottom+1):\n",
    "   matrix[i][right]=chr(ch)\n",
    "   ch+=1\n",
    "   '''if ch>90:\n",
    "       ch=65'''\n",
    "  right-=1\n",
    "  for i in range(right,left-1,-1):\n",
    "   matrix[bottom][i]=chr(ch)\n",
    "   ch+=1\n",
    "   '''if ch>90:\n",
    "       ch=65'''\n",
    "  bottom-=1\n",
    "  for i in range(bottom,top-1,-1):\n",
    "   matrix[i][left]=chr(ch)\n",
    "   ch+=1\n",
    "   '''if ch>90:\n",
    "       ch=65'''\n",
    "  left+=1\n",
    "for row in matrix:\n",
    "  for val in row:\n",
    "    print(f\"{val:2}\",end=' ')\n",
    "  print()\n",
    "     "
   ]
  }
 ],
 "metadata": {
  "kernelspec": {
   "display_name": "Python 3 (ipykernel)",
   "language": "python",
   "name": "python3"
  },
  "language_info": {
   "codemirror_mode": {
    "name": "ipython",
    "version": 3
   },
   "file_extension": ".py",
   "mimetype": "text/x-python",
   "name": "python",
   "nbconvert_exporter": "python",
   "pygments_lexer": "ipython3",
   "version": "3.12.7"
  }
 },
 "nbformat": 4,
 "nbformat_minor": 5
}
