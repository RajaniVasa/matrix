{
 "cells": [
  {
   "cell_type": "code",
   "execution_count": null,
   "id": "ed7b77ac-1c10-42e4-83e0-d7c06f8973c7",
   "metadata": {},
   "outputs": [],
   "source": [
    "n=int(input(\"Enter the size:\"))\n",
    "matrix=[[1,2,3,4],[5,6,7,8],[9,10,11,12],[13,14,15,16]]\n",
    "rows=len(matrix)\n",
    "cols=len(matrix[0])\n",
    "top,left=0,0\n",
    "right,bottom=cols-1,rows-1\n",
    "while top<=bottom and left<=right:\n",
    "    for i in range(left,right+1):\n",
    "        print(matrix[top][i],end=' ')\n",
    "    top+=1\n",
    "    for i in range(top,bottom+1):\n",
    "        print(matrix[i][right],end=' ')\n",
    "    right-=1\n",
    "    for i in range(right,left-1,-1):\n",
    "       print(matrix[bottom][i],end=' ')\n",
    "    bottom-=1\n",
    "    for i in range(bottom,top-1,-1):\n",
    "       print(matrix[i][left],end=' ')\n",
    "    left+=1\n"
   ]
  }
 ],
 "metadata": {
  "kernelspec": {
   "display_name": "Python 3 (ipykernel)",
   "language": "python",
   "name": "python3"
  },
  "language_info": {
   "codemirror_mode": {
    "name": "ipython",
    "version": 3
   },
   "file_extension": ".py",
   "mimetype": "text/x-python",
   "name": "python",
   "nbconvert_exporter": "python",
   "pygments_lexer": "ipython3",
   "version": "3.12.7"
  }
 },
 "nbformat": 4,
 "nbformat_minor": 5
}
